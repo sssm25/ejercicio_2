{
  "cells": [
    {
      "cell_type": "code",
      "execution_count": 58,
      "metadata": {
        "id": "UrthS22rleUu"
      },
      "outputs": [],
      "source": [
        "#Importar las librerías\n",
        "from bs4 import BeautifulSoup\n",
        "import requests\n",
        "import pandas as pd\n",
        "import sqlite3"
      ]
    },
    {
      "cell_type": "code",
      "execution_count": 52,
      "metadata": {
        "id": "EoqK1ZE7W5tH"
      },
      "outputs": [],
      "source": [
        "# Hacemos la petición a la página y a BeautifulSoup\n",
        "response = requests.get(url)\n",
        "soup = BeautifulSoup(response.text, 'html.parser')"
      ]
    },
    {
      "cell_type": "code",
      "execution_count": 55,
      "metadata": {
        "colab": {
          "base_uri": "https://localhost:8080/"
        },
        "id": "MLnX0hHJXA-A",
        "outputId": "10a93c8c-a3df-4b08-8aa7-ece4b399a66a"
      },
      "outputs": [
        {
          "name": "stdout",
          "output_type": "stream",
          "text": [
            "    Country        Country_name            Country_info\n",
            "0       MMM                  3M             Industrials\n",
            "1       AOS         A. O. Smith             Industrials\n",
            "2       ABT              Abbott             Health Care\n",
            "3      ABBV              AbbVie             Health Care\n",
            "4       ACN           Accenture  Information Technology\n",
            "..      ...                 ...                     ...\n",
            "498     XYL          Xylem Inc.             Industrials\n",
            "499     YUM         Yum! Brands  Consumer Discretionary\n",
            "500    ZBRA  Zebra Technologies  Information Technology\n",
            "501     ZBH       Zimmer Biomet             Health Care\n",
            "502     ZTS              Zoetis             Health Care\n",
            "\n",
            "[503 rows x 3 columns]\n"
          ]
        }
      ],
      "source": [
        "# Extraemos los datos de los perfiles\n",
        "profiles = soup.select('.Countries')\n",
        "\n",
        "rows = table.find_all('tr')[1:]  # Ignorar la primera fila (encabezados)\n",
        "\n",
        "# Crear listas para almacenar los datos\n",
        "data = []\n",
        "for row in rows:\n",
        "    cols = row.find_all('td')\n",
        "    if len(cols) >= 3:  # Asegúrate de que hay suficientes columnas\n",
        "        country = cols[0].get_text(strip=True)\n",
        "        country_name = cols[1].get_text(strip=True)\n",
        "        country_info = cols[2].get_text(strip=True)\n",
        "        data.append([country, country_name, country_info])\n",
        "\n",
        "# Crear un DataFrame con los datos extraídos\n",
        "df = pd.DataFrame(data, columns=['Country', 'Country_name', 'Country_info'])\n",
        "\n",
        "# Mostrar el DataFrame\n",
        "print(df)\n",
        "\n",
        "# Crear base de datos\n",
        "conn = sqlite3.connect('countries.db')\n",
        "cursor = conn.cursor()"
      ]
    },
    {
      "cell_type": "code",
      "execution_count": 57,
      "metadata": {
        "colab": {
          "base_uri": "https://localhost:8080/"
        },
        "id": "fJDqC_GGYP6u",
        "outputId": "ec3493f3-cf1b-4bb6-cc3f-50d93f5691bd"
      },
      "outputs": [
        {
          "name": "stdout",
          "output_type": "stream",
          "text": [
            "    Country        Country_name            Country_info\n",
            "0       MMM                  3M             Industrials\n",
            "1       AOS         A. O. Smith             Industrials\n",
            "2       ABT              Abbott             Health Care\n",
            "3      ABBV              AbbVie             Health Care\n",
            "4       ACN           Accenture  Information Technology\n",
            "..      ...                 ...                     ...\n",
            "498     XYL          Xylem Inc.             Industrials\n",
            "499     YUM         Yum! Brands  Consumer Discretionary\n",
            "500    ZBRA  Zebra Technologies  Information Technology\n",
            "501     ZBH       Zimmer Biomet             Health Care\n",
            "502     ZTS              Zoetis             Health Care\n",
            "\n",
            "[503 rows x 3 columns]\n"
          ]
        }
      ],
      "source": [
        "# Crear base de datos\n",
        "conn = sqlite3.connect('Countries.db')\n",
        "cursor = conn.cursor()\n",
        "\n",
        "# Creamos la tabla\n",
        "cursor.execute('''\n",
        "CREATE TABLE IF NOT EXISTS Countries(\n",
        "    Country TEXT,\n",
        "    Country_name TEXT,\n",
        "    Country_info TEXT\n",
        ")''')\n",
        "\n",
        "# Insertamos los datos del DataFrame en la tabla\n",
        "df.to_sql('Countries', conn, if_exists='replace', index=False)\n",
        "\n",
        "# Hacemos la consulta a la base de datos para poder visualizar\n",
        "df_from_db = pd.read_sql_query('SELECT * FROM Countries', conn)\n",
        "\n",
        "# Verificamos el resultado\n",
        "print(df_from_db)\n",
        "\n",
        "# Cerramos la conexión\n",
        "conn.close()"
      ]
    }
  ],
  "metadata": {
    "colab": {
      "name": "Te damos la bienvenida a Colaboratory",
      "provenance": []
    },
    "kernelspec": {
      "display_name": "Python 3",
      "name": "python3"
    }
  },
  "nbformat": 4,
  "nbformat_minor": 0
}
